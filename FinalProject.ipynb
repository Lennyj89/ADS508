{
 "cells": [
  {
   "cell_type": "markdown",
   "metadata": {},
   "source": [
    "# Import Initial Libraries & Establish S3 Session"
   ]
  },
  {
   "cell_type": "code",
   "execution_count": 278,
   "metadata": {},
   "outputs": [
    {
     "name": "stdout",
     "output_type": "stream",
     "text": [
      "/opt/conda/lib/python3.7/site-packages/secretstorage/dhcrypto.py:16: CryptographyDeprecationWarning: int_from_bytes is deprecated, use int.from_bytes instead\n",
      "  from cryptography.utils import int_from_bytes\n",
      "/opt/conda/lib/python3.7/site-packages/secretstorage/util.py:25: CryptographyDeprecationWarning: int_from_bytes is deprecated, use int.from_bytes instead\n",
      "  from cryptography.utils import int_from_bytes\n",
      "\u001b[33mWARNING: Running pip as the 'root' user can result in broken permissions and conflicting behaviour with the system package manager. It is recommended to use a virtual environment instead: https://pip.pypa.io/warnings/venv\u001b[0m\u001b[33m\n",
      "\u001b[0m"
     ]
    }
   ],
   "source": [
    "!pip install --disable-pip-version-check -q fast_ml"
   ]
  },
  {
   "cell_type": "code",
   "execution_count": 279,
   "metadata": {},
   "outputs": [],
   "source": [
    "import boto3\n",
    "import sagemaker\n",
    "import pandas as pd\n",
    "import io\n",
    "import functools\n",
    "from sklearn.preprocessing import OrdinalEncoder, LabelEncoder, MinMaxScaler\n",
    "from fast_ml.model_development import train_valid_test_split\n",
    "\n",
    "\n",
    "sess = sagemaker.Session()\n",
    "bucket = sess.default_bucket()\n",
    "role = sagemaker.get_execution_role()\n",
    "region = boto3.Session().region_name\n",
    "account_id = boto3.client(\"sts\").get_caller_identity().get(\"Account\")\n",
    "s3 = boto3.client(\"s3\")\n",
    "\n",
    "sm = boto3.Session().client(service_name=\"sagemaker\", region_name=region)"
   ]
  },
  {
   "cell_type": "markdown",
   "metadata": {},
   "source": [
    "# Downlaod Key Data from S3 & Save to Local Sagemaker Instance"
   ]
  },
  {
   "cell_type": "code",
   "execution_count": 280,
   "metadata": {},
   "outputs": [
    {
     "name": "stdout",
     "output_type": "stream",
     "text": [
      "Successfully downloaded file: college_statistics.csv\n",
      "Successfully downloaded file: combine_data.csv\n",
      "Successfully downloaded file: nfl_draft_profiles.csv\n",
      "Successfully downloaded file: draft_picks.csv\n",
      "Successfully downloaded file: nfl_draft_prospects.csv\n"
     ]
    }
   ],
   "source": [
    "def download_s3_files(filename):\n",
    "    obj = s3.get_object(Bucket=bucket, Key=filename)\n",
    "    pd.read_csv(io.BytesIO(obj['Body'].read())).to_csv(filename)\n",
    "    \n",
    "    print(\"Successfully downloaded file: {}\".format(filename))\n",
    "    \n",
    "files = ['college_statistics.csv',\n",
    "         'combine_data.csv',\n",
    "         'nfl_draft_profiles.csv',\n",
    "         'draft_picks.csv',\n",
    "         'nfl_draft_prospects.csv']\n",
    "\n",
    "for file in files:\n",
    "    download_s3_files(file)"
   ]
  },
  {
   "cell_type": "markdown",
   "metadata": {},
   "source": [
    "# Read Data into Dataframes"
   ]
  },
  {
   "cell_type": "code",
   "execution_count": 281,
   "metadata": {},
   "outputs": [],
   "source": [
    "def read_csv(filename):\n",
    "    df = pd.read_csv(filename)\n",
    "    print(\"Successfuly read {} records into df\".format(len(df)))\n",
    "    \n",
    "    return df"
   ]
  },
  {
   "cell_type": "markdown",
   "metadata": {},
   "source": [
    "# Data Quality Checks"
   ]
  },
  {
   "cell_type": "markdown",
   "metadata": {},
   "source": [
    "## College Statistics\n",
    "\n",
    "Initially, certain columns have been immmediately dropped or pivoted, based on domain knowledge, usefulness to the problem at hand and ease of analysis.\n",
    "\n",
    "Further, it can be seen that there are many NaN's in this dataset. However, these NaN's occur in areas where they are expected; certain players are not expected to have any stats for certain metrics. For example, defensive players are not expected to have offensive stats and vice-versa.\n",
    "\n",
    "Hence, all NaN's in this case will be filled with 0.0.\n",
    "\n",
    "A data type check was also performed to sense-check that each field is formatted appropriately."
   ]
  },
  {
   "cell_type": "code",
   "execution_count": 282,
   "metadata": {},
   "outputs": [
    {
     "name": "stdout",
     "output_type": "stream",
     "text": [
      "Successfuly read 66672 records into df\n"
     ]
    }
   ],
   "source": [
    "college_stats = read_csv('college_statistics.csv').pivot_table(index=['player_id','player_name','alt_player_id','pos_abbr','school', 'school_abbr', 'season','all_star'],columns='statistic', values='value')\\\n",
    "                                                  .reset_index()"
   ]
  },
  {
   "cell_type": "code",
   "execution_count": 283,
   "metadata": {},
   "outputs": [
    {
     "name": "stdout",
     "output_type": "stream",
     "text": [
      "statistic\n",
      "player_id                         0\n",
      "player_name                       0\n",
      "alt_player_id                     0\n",
      "pos_abbr                          0\n",
      "school                            0\n",
      "                               ... \n",
      "Total Touchdowns               2186\n",
      "Total Two Point Conversions    2186\n",
      "Yards Per Pass Attempt         3323\n",
      "Yards Per Reception            2443\n",
      "Yards Per Rush Attempt         2745\n",
      "Length: 66, dtype: int64\n",
      "statistic\n",
      "player_id                        int64\n",
      "player_name                     object\n",
      "alt_player_id                    int64\n",
      "pos_abbr                        object\n",
      "school                          object\n",
      "                                ...   \n",
      "Total Touchdowns               float64\n",
      "Total Two Point Conversions    float64\n",
      "Yards Per Pass Attempt         float64\n",
      "Yards Per Reception            float64\n",
      "Yards Per Rush Attempt         float64\n",
      "Length: 66, dtype: object\n"
     ]
    }
   ],
   "source": [
    "print(college_stats.isna().sum())\n",
    "print(college_stats.dtypes)\n",
    "\n",
    "college_stats.fillna(0.0, inplace=True)"
   ]
  },
  {
   "cell_type": "markdown",
   "metadata": {},
   "source": [
    "## Combine Data"
   ]
  },
  {
   "cell_type": "markdown",
   "metadata": {},
   "source": [
    "The Round & Pick columns were immediately removed from this dataset, as there is another dataset dedicated to that information; and all datasets will be combined in the next phase of exploration.\n",
    "\n",
    "For the remainging columns, NaN's were found across key metrics. On a cost-benefit analysis of dropping NaN's (to preserve data integrity as physical fitness information is critical to draft strategies) vs. replacing Nan's with 0's; the latter option was chosen to ensure enough data was present for a model to successfully learn and avoid overfitting. Dropping NaN's enitrely would reduce the dataset to an unnaceptable level, which is indeed a data quality issue.  0 is chosen because players can opt not to participate in certain drills.  Using a median or mean metric to replace NaN's can produce invalid predictions."
   ]
  },
  {
   "cell_type": "code",
   "execution_count": 284,
   "metadata": {},
   "outputs": [
    {
     "name": "stdout",
     "output_type": "stream",
     "text": [
      "Successfuly read 6218 records into df\n"
     ]
    }
   ],
   "source": [
    "combine = read_csv('combine_data.csv').drop(columns=['Unnamed: 0'])"
   ]
  },
  {
   "cell_type": "code",
   "execution_count": 285,
   "metadata": {},
   "outputs": [
    {
     "name": "stdout",
     "output_type": "stream",
     "text": [
      "Player          0\n",
      "Pos             0\n",
      "Ht              0\n",
      "Wt              0\n",
      "Forty         172\n",
      "Vertical     1422\n",
      "BenchReps    2006\n",
      "BroadJump    1464\n",
      "Cone         2225\n",
      "Shuttle      2155\n",
      "Year            0\n",
      "Pfr_ID       1323\n",
      "AV              0\n",
      "Team         2480\n",
      "Round        2480\n",
      "Pick         2480\n",
      "dtype: int64\n",
      "Player        object\n",
      "Pos           object\n",
      "Ht             int64\n",
      "Wt             int64\n",
      "Forty        float64\n",
      "Vertical     float64\n",
      "BenchReps    float64\n",
      "BroadJump    float64\n",
      "Cone         float64\n",
      "Shuttle      float64\n",
      "Year           int64\n",
      "Pfr_ID        object\n",
      "AV           float64\n",
      "Team          object\n",
      "Round        float64\n",
      "Pick         float64\n",
      "dtype: object\n"
     ]
    }
   ],
   "source": [
    "print(combine.isna().sum())\n",
    "print(combine.dtypes)\n",
    "\n",
    "combine.fillna(0, inplace=True)"
   ]
  },
  {
   "cell_type": "markdown",
   "metadata": {},
   "source": [
    "## Draft Picks"
   ]
  },
  {
   "cell_type": "markdown",
   "metadata": {},
   "source": [
    "Unfortunately in this dataset, the player_id field contained many NaN's and was hence dropped. Instead, the player name (pfr_name) will be used to join data sets."
   ]
  },
  {
   "cell_type": "code",
   "execution_count": 286,
   "metadata": {},
   "outputs": [
    {
     "name": "stdout",
     "output_type": "stream",
     "text": [
      "Successfuly read 11632 records into df\n"
     ]
    }
   ],
   "source": [
    "picks = read_csv('draft_picks.csv').drop(columns=['Unnamed: 0'])"
   ]
  },
  {
   "cell_type": "code",
   "execution_count": 287,
   "metadata": {},
   "outputs": [
    {
     "name": "stdout",
     "output_type": "stream",
     "text": [
      "season           0\n",
      "team             0\n",
      "round            0\n",
      "pick             0\n",
      "pfr_id        1755\n",
      "pfr_name         0\n",
      "player_id    11395\n",
      "side             0\n",
      "category         0\n",
      "position         0\n",
      "dtype: int64\n",
      "season        int64\n",
      "team         object\n",
      "round         int64\n",
      "pick          int64\n",
      "pfr_id       object\n",
      "pfr_name     object\n",
      "player_id    object\n",
      "side         object\n",
      "category     object\n",
      "position     object\n",
      "dtype: object\n"
     ]
    }
   ],
   "source": [
    "print(picks.isna().sum())\n",
    "print(picks.dtypes)\n",
    "\n",
    "picks.drop(columns='player_id', inplace=True)"
   ]
  },
  {
   "cell_type": "markdown",
   "metadata": {},
   "source": [
    "## Draft Prospects"
   ]
  },
  {
   "cell_type": "markdown",
   "metadata": {},
   "source": [
    "This dataset had many NaN's. The key data in this set, that cannot be found in the other datasets above, were player position ranks and overall ranks, which would be crucial to draft order. \n",
    "\n",
    "As such, all other columns were dropped (apart from player identifiers), and NaN's were removed as the rank information cannot be imputed. "
   ]
  },
  {
   "cell_type": "code",
   "execution_count": 288,
   "metadata": {},
   "outputs": [
    {
     "name": "stdout",
     "output_type": "stream",
     "text": [
      "Successfuly read 13354 records into df\n"
     ]
    }
   ],
   "source": [
    "prospects = read_csv('nfl_draft_prospects.csv')"
   ]
  },
  {
   "cell_type": "code",
   "execution_count": 289,
   "metadata": {},
   "outputs": [
    {
     "name": "stdout",
     "output_type": "stream",
     "text": [
      "Unnamed: 0            0\n",
      "draft_year            0\n",
      "player_id             0\n",
      "player_name           0\n",
      "position            309\n",
      "pos_abbr            309\n",
      "school              209\n",
      "school_name         227\n",
      "school_abbr         396\n",
      "link                  0\n",
      "pick               1566\n",
      "overall            1566\n",
      "round              1566\n",
      "traded             1566\n",
      "trade_note         8848\n",
      "team               1566\n",
      "team_abbr          1566\n",
      "team_logo_espn     1600\n",
      "guid               7182\n",
      "weight             7242\n",
      "height             7273\n",
      "pos_rk             7365\n",
      "ovr_rk             8134\n",
      "grade              7359\n",
      "player_image      11823\n",
      "dtype: int64\n",
      "Unnamed: 0          int64\n",
      "draft_year          int64\n",
      "player_id           int64\n",
      "player_name        object\n",
      "position           object\n",
      "pos_abbr           object\n",
      "school             object\n",
      "school_name        object\n",
      "school_abbr        object\n",
      "link               object\n",
      "pick              float64\n",
      "overall           float64\n",
      "round             float64\n",
      "traded             object\n",
      "trade_note         object\n",
      "team               object\n",
      "team_abbr          object\n",
      "team_logo_espn     object\n",
      "guid               object\n",
      "weight            float64\n",
      "height            float64\n",
      "pos_rk            float64\n",
      "ovr_rk            float64\n",
      "grade             float64\n",
      "player_image       object\n",
      "dtype: object\n"
     ]
    }
   ],
   "source": [
    "print(prospects.isna().sum())\n",
    "print(prospects.dtypes)"
   ]
  },
  {
   "cell_type": "markdown",
   "metadata": {},
   "source": [
    "# Exploratory Data Analysis"
   ]
  },
  {
   "cell_type": "markdown",
   "metadata": {},
   "source": [
    "## College Statistics"
   ]
  },
  {
   "cell_type": "markdown",
   "metadata": {},
   "source": [
    "We perform quick EDA to get a feel for the data distributions, features we are working with, just to get an idea of how this data can benefit our project"
   ]
  },
  {
   "cell_type": "code",
   "execution_count": 290,
   "metadata": {},
   "outputs": [
    {
     "data": {
      "text/html": [
       "<div>\n",
       "<style scoped>\n",
       "    .dataframe tbody tr th:only-of-type {\n",
       "        vertical-align: middle;\n",
       "    }\n",
       "\n",
       "    .dataframe tbody tr th {\n",
       "        vertical-align: top;\n",
       "    }\n",
       "\n",
       "    .dataframe thead th {\n",
       "        text-align: right;\n",
       "    }\n",
       "</style>\n",
       "<table border=\"1\" class=\"dataframe\">\n",
       "  <thead>\n",
       "    <tr style=\"text-align: right;\">\n",
       "      <th>statistic</th>\n",
       "      <th>player_id</th>\n",
       "      <th>alt_player_id</th>\n",
       "      <th>season</th>\n",
       "      <th>Assist Tackles</th>\n",
       "      <th>Completion Percentage</th>\n",
       "      <th>Completions</th>\n",
       "      <th>Extra Points Made</th>\n",
       "      <th>FGM 1-19 yards</th>\n",
       "      <th>FGM 20-29 yards</th>\n",
       "      <th>FGM 30-39 yards</th>\n",
       "      <th>...</th>\n",
       "      <th>Solo Tackles</th>\n",
       "      <th>Total Kicking Points</th>\n",
       "      <th>Total Points</th>\n",
       "      <th>Total Sacks</th>\n",
       "      <th>Total Tackles</th>\n",
       "      <th>Total Touchdowns</th>\n",
       "      <th>Total Two Point Conversions</th>\n",
       "      <th>Yards Per Pass Attempt</th>\n",
       "      <th>Yards Per Reception</th>\n",
       "      <th>Yards Per Rush Attempt</th>\n",
       "    </tr>\n",
       "  </thead>\n",
       "  <tbody>\n",
       "    <tr>\n",
       "      <th>count</th>\n",
       "      <td>3624.000000</td>\n",
       "      <td>3.624000e+03</td>\n",
       "      <td>3624.000000</td>\n",
       "      <td>3624.000000</td>\n",
       "      <td>3624.000000</td>\n",
       "      <td>3624.000000</td>\n",
       "      <td>3624.000000</td>\n",
       "      <td>3624.000000</td>\n",
       "      <td>3624.000000</td>\n",
       "      <td>3624.000000</td>\n",
       "      <td>...</td>\n",
       "      <td>3624.000000</td>\n",
       "      <td>3624.000000</td>\n",
       "      <td>3624.000000</td>\n",
       "      <td>3624.000000</td>\n",
       "      <td>3624.000000</td>\n",
       "      <td>3624.000000</td>\n",
       "      <td>3624.000000</td>\n",
       "      <td>3624.000000</td>\n",
       "      <td>3624.000000</td>\n",
       "      <td>3624.000000</td>\n",
       "    </tr>\n",
       "    <tr>\n",
       "      <th>mean</th>\n",
       "      <td>100543.730960</td>\n",
       "      <td>3.847922e+06</td>\n",
       "      <td>2017.200607</td>\n",
       "      <td>9.809327</td>\n",
       "      <td>4.681098</td>\n",
       "      <td>7.633554</td>\n",
       "      <td>0.417494</td>\n",
       "      <td>0.001932</td>\n",
       "      <td>0.045530</td>\n",
       "      <td>0.043046</td>\n",
       "      <td>...</td>\n",
       "      <td>14.735099</td>\n",
       "      <td>0.853753</td>\n",
       "      <td>12.958885</td>\n",
       "      <td>0.680464</td>\n",
       "      <td>24.544426</td>\n",
       "      <td>2.018902</td>\n",
       "      <td>0.024834</td>\n",
       "      <td>0.727649</td>\n",
       "      <td>3.968543</td>\n",
       "      <td>1.203974</td>\n",
       "    </tr>\n",
       "    <tr>\n",
       "      <th>std</th>\n",
       "      <td>14482.151791</td>\n",
       "      <td>4.195900e+05</td>\n",
       "      <td>1.517690</td>\n",
       "      <td>13.341449</td>\n",
       "      <td>18.153404</td>\n",
       "      <td>42.477853</td>\n",
       "      <td>4.438662</td>\n",
       "      <td>0.049804</td>\n",
       "      <td>0.530985</td>\n",
       "      <td>0.507543</td>\n",
       "      <td>...</td>\n",
       "      <td>18.035017</td>\n",
       "      <td>8.976746</td>\n",
       "      <td>25.115141</td>\n",
       "      <td>3.835349</td>\n",
       "      <td>30.055744</td>\n",
       "      <td>3.981081</td>\n",
       "      <td>0.165941</td>\n",
       "      <td>3.603123</td>\n",
       "      <td>6.511709</td>\n",
       "      <td>3.060852</td>\n",
       "    </tr>\n",
       "    <tr>\n",
       "      <th>min</th>\n",
       "      <td>368.000000</td>\n",
       "      <td>2.985844e+06</td>\n",
       "      <td>2014.000000</td>\n",
       "      <td>0.000000</td>\n",
       "      <td>0.000000</td>\n",
       "      <td>0.000000</td>\n",
       "      <td>0.000000</td>\n",
       "      <td>0.000000</td>\n",
       "      <td>0.000000</td>\n",
       "      <td>0.000000</td>\n",
       "      <td>...</td>\n",
       "      <td>0.000000</td>\n",
       "      <td>0.000000</td>\n",
       "      <td>0.000000</td>\n",
       "      <td>0.000000</td>\n",
       "      <td>0.000000</td>\n",
       "      <td>0.000000</td>\n",
       "      <td>0.000000</td>\n",
       "      <td>-9.000000</td>\n",
       "      <td>-12.000000</td>\n",
       "      <td>-13.000000</td>\n",
       "    </tr>\n",
       "    <tr>\n",
       "      <th>25%</th>\n",
       "      <td>103548.750000</td>\n",
       "      <td>3.728263e+06</td>\n",
       "      <td>2016.000000</td>\n",
       "      <td>0.000000</td>\n",
       "      <td>0.000000</td>\n",
       "      <td>0.000000</td>\n",
       "      <td>0.000000</td>\n",
       "      <td>0.000000</td>\n",
       "      <td>0.000000</td>\n",
       "      <td>0.000000</td>\n",
       "      <td>...</td>\n",
       "      <td>0.000000</td>\n",
       "      <td>0.000000</td>\n",
       "      <td>0.000000</td>\n",
       "      <td>0.000000</td>\n",
       "      <td>1.000000</td>\n",
       "      <td>0.000000</td>\n",
       "      <td>0.000000</td>\n",
       "      <td>0.000000</td>\n",
       "      <td>0.000000</td>\n",
       "      <td>0.000000</td>\n",
       "    </tr>\n",
       "    <tr>\n",
       "      <th>50%</th>\n",
       "      <td>104097.000000</td>\n",
       "      <td>3.957672e+06</td>\n",
       "      <td>2017.000000</td>\n",
       "      <td>3.000000</td>\n",
       "      <td>0.000000</td>\n",
       "      <td>0.000000</td>\n",
       "      <td>0.000000</td>\n",
       "      <td>0.000000</td>\n",
       "      <td>0.000000</td>\n",
       "      <td>0.000000</td>\n",
       "      <td>...</td>\n",
       "      <td>6.000000</td>\n",
       "      <td>0.000000</td>\n",
       "      <td>0.000000</td>\n",
       "      <td>0.000000</td>\n",
       "      <td>10.000000</td>\n",
       "      <td>0.000000</td>\n",
       "      <td>0.000000</td>\n",
       "      <td>0.000000</td>\n",
       "      <td>0.000000</td>\n",
       "      <td>0.000000</td>\n",
       "    </tr>\n",
       "    <tr>\n",
       "      <th>75%</th>\n",
       "      <td>104737.250000</td>\n",
       "      <td>4.048231e+06</td>\n",
       "      <td>2018.000000</td>\n",
       "      <td>16.000000</td>\n",
       "      <td>0.000000</td>\n",
       "      <td>0.000000</td>\n",
       "      <td>0.000000</td>\n",
       "      <td>0.000000</td>\n",
       "      <td>0.000000</td>\n",
       "      <td>0.000000</td>\n",
       "      <td>...</td>\n",
       "      <td>25.000000</td>\n",
       "      <td>0.000000</td>\n",
       "      <td>12.000000</td>\n",
       "      <td>0.000000</td>\n",
       "      <td>42.000000</td>\n",
       "      <td>2.000000</td>\n",
       "      <td>0.000000</td>\n",
       "      <td>0.000000</td>\n",
       "      <td>8.400000</td>\n",
       "      <td>0.000000</td>\n",
       "    </tr>\n",
       "    <tr>\n",
       "      <th>max</th>\n",
       "      <td>105468.000000</td>\n",
       "      <td>4.579254e+06</td>\n",
       "      <td>2020.000000</td>\n",
       "      <td>96.000000</td>\n",
       "      <td>100.000000</td>\n",
       "      <td>493.000000</td>\n",
       "      <td>85.000000</td>\n",
       "      <td>2.000000</td>\n",
       "      <td>12.000000</td>\n",
       "      <td>11.000000</td>\n",
       "      <td>...</td>\n",
       "      <td>109.000000</td>\n",
       "      <td>134.000000</td>\n",
       "      <td>198.000000</td>\n",
       "      <td>46.000000</td>\n",
       "      <td>181.000000</td>\n",
       "      <td>33.000000</td>\n",
       "      <td>3.000000</td>\n",
       "      <td>59.000000</td>\n",
       "      <td>58.000000</td>\n",
       "      <td>37.500000</td>\n",
       "    </tr>\n",
       "  </tbody>\n",
       "</table>\n",
       "<p>8 rows × 61 columns</p>\n",
       "</div>"
      ],
      "text/plain": [
       "statistic      player_id  alt_player_id       season  Assist Tackles  \\\n",
       "count        3624.000000   3.624000e+03  3624.000000     3624.000000   \n",
       "mean       100543.730960   3.847922e+06  2017.200607        9.809327   \n",
       "std         14482.151791   4.195900e+05     1.517690       13.341449   \n",
       "min           368.000000   2.985844e+06  2014.000000        0.000000   \n",
       "25%        103548.750000   3.728263e+06  2016.000000        0.000000   \n",
       "50%        104097.000000   3.957672e+06  2017.000000        3.000000   \n",
       "75%        104737.250000   4.048231e+06  2018.000000       16.000000   \n",
       "max        105468.000000   4.579254e+06  2020.000000       96.000000   \n",
       "\n",
       "statistic  Completion Percentage  Completions  Extra Points Made  \\\n",
       "count                3624.000000  3624.000000        3624.000000   \n",
       "mean                    4.681098     7.633554           0.417494   \n",
       "std                    18.153404    42.477853           4.438662   \n",
       "min                     0.000000     0.000000           0.000000   \n",
       "25%                     0.000000     0.000000           0.000000   \n",
       "50%                     0.000000     0.000000           0.000000   \n",
       "75%                     0.000000     0.000000           0.000000   \n",
       "max                   100.000000   493.000000          85.000000   \n",
       "\n",
       "statistic  FGM 1-19 yards  FGM 20-29 yards  FGM 30-39 yards  ...  \\\n",
       "count         3624.000000      3624.000000      3624.000000  ...   \n",
       "mean             0.001932         0.045530         0.043046  ...   \n",
       "std              0.049804         0.530985         0.507543  ...   \n",
       "min              0.000000         0.000000         0.000000  ...   \n",
       "25%              0.000000         0.000000         0.000000  ...   \n",
       "50%              0.000000         0.000000         0.000000  ...   \n",
       "75%              0.000000         0.000000         0.000000  ...   \n",
       "max              2.000000        12.000000        11.000000  ...   \n",
       "\n",
       "statistic  Solo Tackles  Total Kicking Points  Total Points  Total Sacks  \\\n",
       "count       3624.000000           3624.000000   3624.000000  3624.000000   \n",
       "mean          14.735099              0.853753     12.958885     0.680464   \n",
       "std           18.035017              8.976746     25.115141     3.835349   \n",
       "min            0.000000              0.000000      0.000000     0.000000   \n",
       "25%            0.000000              0.000000      0.000000     0.000000   \n",
       "50%            6.000000              0.000000      0.000000     0.000000   \n",
       "75%           25.000000              0.000000     12.000000     0.000000   \n",
       "max          109.000000            134.000000    198.000000    46.000000   \n",
       "\n",
       "statistic  Total Tackles  Total Touchdowns  Total Two Point Conversions  \\\n",
       "count        3624.000000       3624.000000                  3624.000000   \n",
       "mean           24.544426          2.018902                     0.024834   \n",
       "std            30.055744          3.981081                     0.165941   \n",
       "min             0.000000          0.000000                     0.000000   \n",
       "25%             1.000000          0.000000                     0.000000   \n",
       "50%            10.000000          0.000000                     0.000000   \n",
       "75%            42.000000          2.000000                     0.000000   \n",
       "max           181.000000         33.000000                     3.000000   \n",
       "\n",
       "statistic  Yards Per Pass Attempt  Yards Per Reception  Yards Per Rush Attempt  \n",
       "count                 3624.000000          3624.000000             3624.000000  \n",
       "mean                     0.727649             3.968543                1.203974  \n",
       "std                      3.603123             6.511709                3.060852  \n",
       "min                     -9.000000           -12.000000              -13.000000  \n",
       "25%                      0.000000             0.000000                0.000000  \n",
       "50%                      0.000000             0.000000                0.000000  \n",
       "75%                      0.000000             8.400000                0.000000  \n",
       "max                     59.000000            58.000000               37.500000  \n",
       "\n",
       "[8 rows x 61 columns]"
      ]
     },
     "execution_count": 290,
     "metadata": {},
     "output_type": "execute_result"
    }
   ],
   "source": [
    "college_stats.describe()"
   ]
  },
  {
   "cell_type": "markdown",
   "metadata": {},
   "source": [
    "Looking at the descriptive statistics, we are quickly alarmed by the season column.  The data only contains information for players from year 2014 to 2020.  This means we have so many years of data missing.  Due to time constraints, we are unable to gather the missing information.  Since we are not able to apply this data to all of the players in consideration, we must withdraw this data source."
   ]
  },
  {
   "cell_type": "markdown",
   "metadata": {},
   "source": [
    "## Combine Data"
   ]
  },
  {
   "cell_type": "markdown",
   "metadata": {},
   "source": [
    "We now consider the combine data for EDA."
   ]
  },
  {
   "cell_type": "code",
   "execution_count": 291,
   "metadata": {},
   "outputs": [
    {
     "data": {
      "text/html": [
       "<div>\n",
       "<style scoped>\n",
       "    .dataframe tbody tr th:only-of-type {\n",
       "        vertical-align: middle;\n",
       "    }\n",
       "\n",
       "    .dataframe tbody tr th {\n",
       "        vertical-align: top;\n",
       "    }\n",
       "\n",
       "    .dataframe thead th {\n",
       "        text-align: right;\n",
       "    }\n",
       "</style>\n",
       "<table border=\"1\" class=\"dataframe\">\n",
       "  <thead>\n",
       "    <tr style=\"text-align: right;\">\n",
       "      <th></th>\n",
       "      <th>Ht</th>\n",
       "      <th>Wt</th>\n",
       "      <th>Forty</th>\n",
       "      <th>Vertical</th>\n",
       "      <th>BenchReps</th>\n",
       "      <th>BroadJump</th>\n",
       "      <th>Cone</th>\n",
       "      <th>Shuttle</th>\n",
       "      <th>Year</th>\n",
       "      <th>AV</th>\n",
       "      <th>Round</th>\n",
       "      <th>Pick</th>\n",
       "    </tr>\n",
       "  </thead>\n",
       "  <tbody>\n",
       "    <tr>\n",
       "      <th>count</th>\n",
       "      <td>6218.000000</td>\n",
       "      <td>6218.000000</td>\n",
       "      <td>6218.000000</td>\n",
       "      <td>6218.000000</td>\n",
       "      <td>6218.000000</td>\n",
       "      <td>6218.000000</td>\n",
       "      <td>6218.000000</td>\n",
       "      <td>6218.000000</td>\n",
       "      <td>6218.000000</td>\n",
       "      <td>6218.000000</td>\n",
       "      <td>6218.000000</td>\n",
       "      <td>6218.000000</td>\n",
       "    </tr>\n",
       "    <tr>\n",
       "      <th>mean</th>\n",
       "      <td>73.798971</td>\n",
       "      <td>243.372145</td>\n",
       "      <td>4.651457</td>\n",
       "      <td>25.313284</td>\n",
       "      <td>14.175137</td>\n",
       "      <td>87.116275</td>\n",
       "      <td>4.676463</td>\n",
       "      <td>2.868932</td>\n",
       "      <td>2009.041975</td>\n",
       "      <td>5.085719</td>\n",
       "      <td>2.307655</td>\n",
       "      <td>68.368768</td>\n",
       "    </tr>\n",
       "    <tr>\n",
       "      <th>std</th>\n",
       "      <td>2.621373</td>\n",
       "      <td>45.103814</td>\n",
       "      <td>0.840625</td>\n",
       "      <td>14.272668</td>\n",
       "      <td>11.108602</td>\n",
       "      <td>49.029161</td>\n",
       "      <td>3.507552</td>\n",
       "      <td>2.100832</td>\n",
       "      <td>5.471056</td>\n",
       "      <td>7.546556</td>\n",
       "      <td>2.413651</td>\n",
       "      <td>78.090913</td>\n",
       "    </tr>\n",
       "    <tr>\n",
       "      <th>min</th>\n",
       "      <td>65.000000</td>\n",
       "      <td>149.000000</td>\n",
       "      <td>0.000000</td>\n",
       "      <td>0.000000</td>\n",
       "      <td>0.000000</td>\n",
       "      <td>0.000000</td>\n",
       "      <td>0.000000</td>\n",
       "      <td>0.000000</td>\n",
       "      <td>2000.000000</td>\n",
       "      <td>-4.000000</td>\n",
       "      <td>0.000000</td>\n",
       "      <td>0.000000</td>\n",
       "    </tr>\n",
       "    <tr>\n",
       "      <th>25%</th>\n",
       "      <td>72.000000</td>\n",
       "      <td>206.000000</td>\n",
       "      <td>4.530000</td>\n",
       "      <td>24.500000</td>\n",
       "      <td>0.000000</td>\n",
       "      <td>93.000000</td>\n",
       "      <td>0.000000</td>\n",
       "      <td>0.000000</td>\n",
       "      <td>2004.000000</td>\n",
       "      <td>0.000000</td>\n",
       "      <td>0.000000</td>\n",
       "      <td>0.000000</td>\n",
       "    </tr>\n",
       "    <tr>\n",
       "      <th>50%</th>\n",
       "      <td>74.000000</td>\n",
       "      <td>233.000000</td>\n",
       "      <td>4.690000</td>\n",
       "      <td>31.500000</td>\n",
       "      <td>17.000000</td>\n",
       "      <td>111.000000</td>\n",
       "      <td>6.940000</td>\n",
       "      <td>4.180000</td>\n",
       "      <td>2009.000000</td>\n",
       "      <td>1.000000</td>\n",
       "      <td>2.000000</td>\n",
       "      <td>36.000000</td>\n",
       "    </tr>\n",
       "    <tr>\n",
       "      <th>75%</th>\n",
       "      <td>76.000000</td>\n",
       "      <td>281.000000</td>\n",
       "      <td>4.970000</td>\n",
       "      <td>35.000000</td>\n",
       "      <td>23.000000</td>\n",
       "      <td>119.000000</td>\n",
       "      <td>7.320000</td>\n",
       "      <td>4.430000</td>\n",
       "      <td>2014.000000</td>\n",
       "      <td>8.000000</td>\n",
       "      <td>4.000000</td>\n",
       "      <td>127.750000</td>\n",
       "    </tr>\n",
       "    <tr>\n",
       "      <th>max</th>\n",
       "      <td>82.000000</td>\n",
       "      <td>375.000000</td>\n",
       "      <td>6.050000</td>\n",
       "      <td>46.000000</td>\n",
       "      <td>49.000000</td>\n",
       "      <td>147.000000</td>\n",
       "      <td>9.120000</td>\n",
       "      <td>5.560000</td>\n",
       "      <td>2018.000000</td>\n",
       "      <td>51.000000</td>\n",
       "      <td>7.000000</td>\n",
       "      <td>260.000000</td>\n",
       "    </tr>\n",
       "  </tbody>\n",
       "</table>\n",
       "</div>"
      ],
      "text/plain": [
       "                Ht           Wt        Forty     Vertical    BenchReps  \\\n",
       "count  6218.000000  6218.000000  6218.000000  6218.000000  6218.000000   \n",
       "mean     73.798971   243.372145     4.651457    25.313284    14.175137   \n",
       "std       2.621373    45.103814     0.840625    14.272668    11.108602   \n",
       "min      65.000000   149.000000     0.000000     0.000000     0.000000   \n",
       "25%      72.000000   206.000000     4.530000    24.500000     0.000000   \n",
       "50%      74.000000   233.000000     4.690000    31.500000    17.000000   \n",
       "75%      76.000000   281.000000     4.970000    35.000000    23.000000   \n",
       "max      82.000000   375.000000     6.050000    46.000000    49.000000   \n",
       "\n",
       "         BroadJump         Cone      Shuttle         Year           AV  \\\n",
       "count  6218.000000  6218.000000  6218.000000  6218.000000  6218.000000   \n",
       "mean     87.116275     4.676463     2.868932  2009.041975     5.085719   \n",
       "std      49.029161     3.507552     2.100832     5.471056     7.546556   \n",
       "min       0.000000     0.000000     0.000000  2000.000000    -4.000000   \n",
       "25%      93.000000     0.000000     0.000000  2004.000000     0.000000   \n",
       "50%     111.000000     6.940000     4.180000  2009.000000     1.000000   \n",
       "75%     119.000000     7.320000     4.430000  2014.000000     8.000000   \n",
       "max     147.000000     9.120000     5.560000  2018.000000    51.000000   \n",
       "\n",
       "             Round         Pick  \n",
       "count  6218.000000  6218.000000  \n",
       "mean      2.307655    68.368768  \n",
       "std       2.413651    78.090913  \n",
       "min       0.000000     0.000000  \n",
       "25%       0.000000     0.000000  \n",
       "50%       2.000000    36.000000  \n",
       "75%       4.000000   127.750000  \n",
       "max       7.000000   260.000000  "
      ]
     },
     "execution_count": 291,
     "metadata": {},
     "output_type": "execute_result"
    }
   ],
   "source": [
    "combine.describe()"
   ]
  },
  {
   "cell_type": "markdown",
   "metadata": {},
   "source": [
    "We now observe a boxplot of each of the numeric features within Combine."
   ]
  },
  {
   "cell_type": "code",
   "execution_count": 292,
   "metadata": {},
   "outputs": [
    {
     "data": {
      "text/plain": [
       "<matplotlib.axes._subplots.AxesSubplot at 0x7fc84ee7cad0>"
      ]
     },
     "execution_count": 292,
     "metadata": {},
     "output_type": "execute_result"
    },
    {
     "data": {
      "image/png": "[encoded data removed]",
      "text/plain": [
       "<Figure size 432x288 with 1 Axes>"
      ]
     },
     "metadata": {
      "needs_background": "light"
     },
     "output_type": "display_data"
    }
   ],
   "source": [
    "import seaborn as sns\n",
    "\n",
    "sns.boxplot(x=combine['Ht'])"
   ]
  },
  {
   "cell_type": "code",
   "execution_count": 293,
   "metadata": {},
   "outputs": [
    {
     "data": {
      "text/plain": [
       "<matplotlib.axes._subplots.AxesSubplot at 0x7fc84fb76390>"
      ]
     },
     "execution_count": 293,
     "metadata": {},
     "output_type": "execute_result"
    },
    {
     "data": {
      "image/png": "[encoded data removed]",
      "text/plain": [
       "<Figure size 432x288 with 1 Axes>"
      ]
     },
     "metadata": {
      "needs_background": "light"
     },
     "output_type": "display_data"
    }
   ],
   "source": [
    "sns.boxplot(x=combine['Wt'])"
   ]
  },
  {
   "cell_type": "code",
   "execution_count": 294,
   "metadata": {},
   "outputs": [
    {
     "data": {
      "text/plain": [
       "<matplotlib.axes._subplots.AxesSubplot at 0x7fc86a73c4d0>"
      ]
     },
     "execution_count": 294,
     "metadata": {},
     "output_type": "execute_result"
    },
    {
     "data": {
      "image/png": "[encoded data removed]",
      "text/plain": [
       "<Figure size 432x288 with 1 Axes>"
      ]
     },
     "metadata": {
      "needs_background": "light"
     },
     "output_type": "display_data"
    }
   ],
   "source": [
    "sns.boxplot(x=combine['Forty'])"
   ]
  },
  {
   "cell_type": "code",
   "execution_count": 295,
   "metadata": {},
   "outputs": [
    {
     "data": {
      "text/plain": [
       "<matplotlib.axes._subplots.AxesSubplot at 0x7fc84f8b6b90>"
      ]
     },
     "execution_count": 295,
     "metadata": {},
     "output_type": "execute_result"
    },
    {
     "data": {
      "image/png": "[encoded data removed]",
      "text/plain": [
       "<Figure size 432x288 with 1 Axes>"
      ]
     },
     "metadata": {
      "needs_background": "light"
     },
     "output_type": "display_data"
    }
   ],
   "source": [
    "sns.boxplot(x=combine['Vertical'])"
   ]
  },
  {
   "cell_type": "code",
   "execution_count": 296,
   "metadata": {},
   "outputs": [
    {
     "data": {
      "text/plain": [
       "<matplotlib.axes._subplots.AxesSubplot at 0x7fc84f772b50>"
      ]
     },
     "execution_count": 296,
     "metadata": {},
     "output_type": "execute_result"
    },
    {
     "data": {
      "image/png": "[encoded data removed]",
      "text/plain": [
       "<Figure size 432x288 with 1 Axes>"
      ]
     },
     "metadata": {
      "needs_background": "light"
     },
     "output_type": "display_data"
    }
   ],
   "source": [
    "sns.boxplot(x=combine['BenchReps'])"
   ]
  },
  {
   "cell_type": "code",
   "execution_count": 297,
   "metadata": {},
   "outputs": [
    {
     "data": {
      "text/plain": [
       "<matplotlib.axes._subplots.AxesSubplot at 0x7fc84dbf3d90>"
      ]
     },
     "execution_count": 297,
     "metadata": {},
     "output_type": "execute_result"
    },
    {
     "data": {
      "image/png": "[encoded data removed]",
      "text/plain": [
       "<Figure size 432x288 with 1 Axes>"
      ]
     },
     "metadata": {
      "needs_background": "light"
     },
     "output_type": "display_data"
    }
   ],
   "source": [
    "sns.boxplot(x=combine['BroadJump'])"
   ]
  },
  {
   "cell_type": "code",
   "execution_count": 298,
   "metadata": {},
   "outputs": [
    {
     "data": {
      "text/plain": [
       "<matplotlib.axes._subplots.AxesSubplot at 0x7fc84db88210>"
      ]
     },
     "execution_count": 298,
     "metadata": {},
     "output_type": "execute_result"
    },
    {
     "data": {
      "image/png": "[encoded data removed]",
      "text/plain": [
       "<Figure size 432x288 with 1 Axes>"
      ]
     },
     "metadata": {
      "needs_background": "light"
     },
     "output_type": "display_data"
    }
   ],
   "source": [
    "sns.boxplot(x=combine['Cone'])"
   ]
  },
  {
   "cell_type": "code",
   "execution_count": 299,
   "metadata": {},
   "outputs": [
    {
     "data": {
      "text/plain": [
       "<matplotlib.axes._subplots.AxesSubplot at 0x7fc84dba95d0>"
      ]
     },
     "execution_count": 299,
     "metadata": {},
     "output_type": "execute_result"
    },
    {
     "data": {
      "image/png": "[encoded data removed]",
      "text/plain": [
       "<Figure size 432x288 with 1 Axes>"
      ]
     },
     "metadata": {
      "needs_background": "light"
     },
     "output_type": "display_data"
    }
   ],
   "source": [
    "sns.boxplot(x=combine['Shuttle'])"
   ]
  },
  {
   "cell_type": "markdown",
   "metadata": {},
   "source": [
    "It should be obvious from the scope of this project that the important features are all physical to the player: Height, Weight, Forty Time, Vertical, Bench Reps, Broad Jump, Cone, and Shuttle.  Some players do elect not to participate in a given drill."
   ]
  },
  {
   "cell_type": "markdown",
   "metadata": {},
   "source": [
    "## Draft Picks"
   ]
  },
  {
   "cell_type": "code",
   "execution_count": 300,
   "metadata": {},
   "outputs": [
    {
     "data": {
      "text/html": [
       "<div>\n",
       "<style scoped>\n",
       "    .dataframe tbody tr th:only-of-type {\n",
       "        vertical-align: middle;\n",
       "    }\n",
       "\n",
       "    .dataframe tbody tr th {\n",
       "        vertical-align: top;\n",
       "    }\n",
       "\n",
       "    .dataframe thead th {\n",
       "        text-align: right;\n",
       "    }\n",
       "</style>\n",
       "<table border=\"1\" class=\"dataframe\">\n",
       "  <thead>\n",
       "    <tr style=\"text-align: right;\">\n",
       "      <th></th>\n",
       "      <th>season</th>\n",
       "      <th>round</th>\n",
       "      <th>pick</th>\n",
       "    </tr>\n",
       "  </thead>\n",
       "  <tbody>\n",
       "    <tr>\n",
       "      <th>count</th>\n",
       "      <td>11632.000000</td>\n",
       "      <td>11632.000000</td>\n",
       "      <td>11632.000000</td>\n",
       "    </tr>\n",
       "    <tr>\n",
       "      <th>mean</th>\n",
       "      <td>1999.270117</td>\n",
       "      <td>5.065853</td>\n",
       "      <td>141.761778</td>\n",
       "    </tr>\n",
       "    <tr>\n",
       "      <th>std</th>\n",
       "      <td>12.378608</td>\n",
       "      <td>2.869793</td>\n",
       "      <td>84.830973</td>\n",
       "    </tr>\n",
       "    <tr>\n",
       "      <th>min</th>\n",
       "      <td>1980.000000</td>\n",
       "      <td>1.000000</td>\n",
       "      <td>1.000000</td>\n",
       "    </tr>\n",
       "    <tr>\n",
       "      <th>25%</th>\n",
       "      <td>1988.000000</td>\n",
       "      <td>3.000000</td>\n",
       "      <td>70.000000</td>\n",
       "    </tr>\n",
       "    <tr>\n",
       "      <th>50%</th>\n",
       "      <td>1999.000000</td>\n",
       "      <td>5.000000</td>\n",
       "      <td>139.000000</td>\n",
       "    </tr>\n",
       "    <tr>\n",
       "      <th>75%</th>\n",
       "      <td>2010.000000</td>\n",
       "      <td>7.000000</td>\n",
       "      <td>208.000000</td>\n",
       "    </tr>\n",
       "    <tr>\n",
       "      <th>max</th>\n",
       "      <td>2021.000000</td>\n",
       "      <td>12.000000</td>\n",
       "      <td>336.000000</td>\n",
       "    </tr>\n",
       "  </tbody>\n",
       "</table>\n",
       "</div>"
      ],
      "text/plain": [
       "             season         round          pick\n",
       "count  11632.000000  11632.000000  11632.000000\n",
       "mean    1999.270117      5.065853    141.761778\n",
       "std       12.378608      2.869793     84.830973\n",
       "min     1980.000000      1.000000      1.000000\n",
       "25%     1988.000000      3.000000     70.000000\n",
       "50%     1999.000000      5.000000    139.000000\n",
       "75%     2010.000000      7.000000    208.000000\n",
       "max     2021.000000     12.000000    336.000000"
      ]
     },
     "execution_count": 300,
     "metadata": {},
     "output_type": "execute_result"
    }
   ],
   "source": [
    "picks.describe()"
   ]
  },
  {
   "cell_type": "markdown",
   "metadata": {},
   "source": [
    "The draft picks data is metadata for our players.  It includes information about what pick the player was drafted and what year.  We found while looking at other data that a lot of information we plan to use only started to be recorded in 2004.  So, we will limit our analysis to 2004 data and up."
   ]
  },
  {
   "cell_type": "markdown",
   "metadata": {},
   "source": [
    "## Draft Prospects"
   ]
  },
  {
   "cell_type": "code",
   "execution_count": 301,
   "metadata": {},
   "outputs": [
    {
     "data": {
      "text/html": [
       "<div>\n",
       "<style scoped>\n",
       "    .dataframe tbody tr th:only-of-type {\n",
       "        vertical-align: middle;\n",
       "    }\n",
       "\n",
       "    .dataframe tbody tr th {\n",
       "        vertical-align: top;\n",
       "    }\n",
       "\n",
       "    .dataframe thead th {\n",
       "        text-align: right;\n",
       "    }\n",
       "</style>\n",
       "<table border=\"1\" class=\"dataframe\">\n",
       "  <thead>\n",
       "    <tr style=\"text-align: right;\">\n",
       "      <th></th>\n",
       "      <th>Unnamed: 0</th>\n",
       "      <th>draft_year</th>\n",
       "      <th>player_id</th>\n",
       "      <th>pick</th>\n",
       "      <th>overall</th>\n",
       "      <th>round</th>\n",
       "      <th>weight</th>\n",
       "      <th>height</th>\n",
       "      <th>pos_rk</th>\n",
       "      <th>ovr_rk</th>\n",
       "      <th>grade</th>\n",
       "    </tr>\n",
       "  </thead>\n",
       "  <tbody>\n",
       "    <tr>\n",
       "      <th>count</th>\n",
       "      <td>13354.000000</td>\n",
       "      <td>13354.000000</td>\n",
       "      <td>13354.000000</td>\n",
       "      <td>11788.000000</td>\n",
       "      <td>11788.000000</td>\n",
       "      <td>11788.000000</td>\n",
       "      <td>6112.000000</td>\n",
       "      <td>6081.000000</td>\n",
       "      <td>5989.000000</td>\n",
       "      <td>5220.000000</td>\n",
       "      <td>5995.000000</td>\n",
       "    </tr>\n",
       "    <tr>\n",
       "      <th>mean</th>\n",
       "      <td>6676.500000</td>\n",
       "      <td>1998.189831</td>\n",
       "      <td>29884.278718</td>\n",
       "      <td>16.905921</td>\n",
       "      <td>113.918392</td>\n",
       "      <td>4.110875</td>\n",
       "      <td>244.736093</td>\n",
       "      <td>73.941169</td>\n",
       "      <td>15.862581</td>\n",
       "      <td>156.325670</td>\n",
       "      <td>57.787490</td>\n",
       "    </tr>\n",
       "    <tr>\n",
       "      <th>std</th>\n",
       "      <td>3855.112082</td>\n",
       "      <td>16.116808</td>\n",
       "      <td>28600.931243</td>\n",
       "      <td>10.123831</td>\n",
       "      <td>67.882416</td>\n",
       "      <td>2.004959</td>\n",
       "      <td>86.888394</td>\n",
       "      <td>2.684655</td>\n",
       "      <td>14.069466</td>\n",
       "      <td>96.825064</td>\n",
       "      <td>20.367434</td>\n",
       "    </tr>\n",
       "    <tr>\n",
       "      <th>min</th>\n",
       "      <td>0.000000</td>\n",
       "      <td>1967.000000</td>\n",
       "      <td>1.000000</td>\n",
       "      <td>1.000000</td>\n",
       "      <td>1.000000</td>\n",
       "      <td>1.000000</td>\n",
       "      <td>155.000000</td>\n",
       "      <td>38.000000</td>\n",
       "      <td>1.000000</td>\n",
       "      <td>1.000000</td>\n",
       "      <td>20.000000</td>\n",
       "    </tr>\n",
       "    <tr>\n",
       "      <th>25%</th>\n",
       "      <td>3338.250000</td>\n",
       "      <td>1984.000000</td>\n",
       "      <td>13684.250000</td>\n",
       "      <td>8.000000</td>\n",
       "      <td>56.000000</td>\n",
       "      <td>2.000000</td>\n",
       "      <td>205.000000</td>\n",
       "      <td>72.000000</td>\n",
       "      <td>6.000000</td>\n",
       "      <td>73.000000</td>\n",
       "      <td>39.000000</td>\n",
       "    </tr>\n",
       "    <tr>\n",
       "      <th>50%</th>\n",
       "      <td>6676.500000</td>\n",
       "      <td>2001.000000</td>\n",
       "      <td>20725.500000</td>\n",
       "      <td>16.000000</td>\n",
       "      <td>112.000000</td>\n",
       "      <td>4.000000</td>\n",
       "      <td>234.000000</td>\n",
       "      <td>74.000000</td>\n",
       "      <td>13.000000</td>\n",
       "      <td>148.000000</td>\n",
       "      <td>57.000000</td>\n",
       "    </tr>\n",
       "    <tr>\n",
       "      <th>75%</th>\n",
       "      <td>10014.750000</td>\n",
       "      <td>2012.000000</td>\n",
       "      <td>28963.750000</td>\n",
       "      <td>24.000000</td>\n",
       "      <td>167.000000</td>\n",
       "      <td>6.000000</td>\n",
       "      <td>285.000000</td>\n",
       "      <td>76.000000</td>\n",
       "      <td>22.000000</td>\n",
       "      <td>235.000000</td>\n",
       "      <td>74.000000</td>\n",
       "    </tr>\n",
       "    <tr>\n",
       "      <th>max</th>\n",
       "      <td>13353.000000</td>\n",
       "      <td>2021.000000</td>\n",
       "      <td>105496.000000</td>\n",
       "      <td>54.000000</td>\n",
       "      <td>262.000000</td>\n",
       "      <td>7.000000</td>\n",
       "      <td>6022.000000</td>\n",
       "      <td>81.625000</td>\n",
       "      <td>151.000000</td>\n",
       "      <td>373.000000</td>\n",
       "      <td>99.000000</td>\n",
       "    </tr>\n",
       "  </tbody>\n",
       "</table>\n",
       "</div>"
      ],
      "text/plain": [
       "         Unnamed: 0    draft_year      player_id          pick       overall  \\\n",
       "count  13354.000000  13354.000000   13354.000000  11788.000000  11788.000000   \n",
       "mean    6676.500000   1998.189831   29884.278718     16.905921    113.918392   \n",
       "std     3855.112082     16.116808   28600.931243     10.123831     67.882416   \n",
       "min        0.000000   1967.000000       1.000000      1.000000      1.000000   \n",
       "25%     3338.250000   1984.000000   13684.250000      8.000000     56.000000   \n",
       "50%     6676.500000   2001.000000   20725.500000     16.000000    112.000000   \n",
       "75%    10014.750000   2012.000000   28963.750000     24.000000    167.000000   \n",
       "max    13353.000000   2021.000000  105496.000000     54.000000    262.000000   \n",
       "\n",
       "              round       weight       height       pos_rk       ovr_rk  \\\n",
       "count  11788.000000  6112.000000  6081.000000  5989.000000  5220.000000   \n",
       "mean       4.110875   244.736093    73.941169    15.862581   156.325670   \n",
       "std        2.004959    86.888394     2.684655    14.069466    96.825064   \n",
       "min        1.000000   155.000000    38.000000     1.000000     1.000000   \n",
       "25%        2.000000   205.000000    72.000000     6.000000    73.000000   \n",
       "50%        4.000000   234.000000    74.000000    13.000000   148.000000   \n",
       "75%        6.000000   285.000000    76.000000    22.000000   235.000000   \n",
       "max        7.000000  6022.000000    81.625000   151.000000   373.000000   \n",
       "\n",
       "             grade  \n",
       "count  5995.000000  \n",
       "mean     57.787490  \n",
       "std      20.367434  \n",
       "min      20.000000  \n",
       "25%      39.000000  \n",
       "50%      57.000000  \n",
       "75%      74.000000  \n",
       "max      99.000000  "
      ]
     },
     "execution_count": 301,
     "metadata": {},
     "output_type": "execute_result"
    }
   ],
   "source": [
    "prospects.describe()"
   ]
  },
  {
   "cell_type": "markdown",
   "metadata": {},
   "source": [
    "There aren't any useful visualizations for this data.  We are interested in pos_rk, ovr_rk, and grade, but these are subjective values assigned by domain experts.  Obviously, we expect to see higher picks where the grade is high."
   ]
  },
  {
   "cell_type": "markdown",
   "metadata": {},
   "source": [
    "## Combine Datasets for Data Cleansing and Model Training"
   ]
  },
  {
   "cell_type": "markdown",
   "metadata": {},
   "source": [
    "The code below will join the datasets into one final dataframe for feature analysis/selection and model training. \n",
    "\n",
    "Initially, the following columns have been dropped based on their usefulness to the overall goal (determined by domain-knowledge). A conservative approach has been taken to only remove fields that create noise, whilst leaving as many potentially useful fields as possible for further analysis. \n",
    "\n",
    "Many fields were also dropped as they were duplicated across datasets (e.g. draft pick and round features in multiple datasets, the duplicated were dropped). "
   ]
  },
  {
   "cell_type": "code",
   "execution_count": 302,
   "metadata": {},
   "outputs": [
    {
     "name": "stdout",
     "output_type": "stream",
     "text": [
      "Index(['Player', 'Pos', 'Ht', 'Wt', 'Forty', 'Vertical', 'BenchReps',\n",
      "       'BroadJump', 'Cone', 'Shuttle', 'Year', 'Pfr_ID', 'AV', 'Team', 'Round',\n",
      "       'Pick', 'season', 'team_x', 'round_x', 'pick_x', 'pfr_id', 'pfr_name',\n",
      "       'side', 'category', 'position_x', 'Unnamed: 0', 'draft_year',\n",
      "       'player_id', 'player_name', 'position_y', 'pos_abbr', 'school',\n",
      "       'school_name', 'school_abbr', 'link', 'pick_y', 'overall', 'round_y',\n",
      "       'traded', 'trade_note', 'team_y', 'team_abbr', 'team_logo_espn', 'guid',\n",
      "       'weight', 'height', 'pos_rk', 'ovr_rk', 'grade', 'player_image'],\n",
      "      dtype='object')\n"
     ]
    }
   ],
   "source": [
    "df = pd.merge(combine, picks, left_on = ['Pfr_ID', 'Year'], right_on = ['pfr_id', 'season'])\n",
    "df2 = pd.merge(df, prospects, left_on = ['Player', 'Year'], right_on = ['player_name', 'draft_year'])\n",
    "print(df2.columns)"
   ]
  },
  {
   "cell_type": "code",
   "execution_count": 303,
   "metadata": {},
   "outputs": [],
   "source": [
    "df2.drop(columns=['Player','Pfr_ID','Team','season','team_x','round_x','pick_x', 'pfr_id', 'pfr_name','position_x','Round', 'Unnamed: 0', 'draft_year',\n",
    "       'player_id', 'player_name', 'position_y', 'pos_abbr','school',\n",
    "       'school_name','link', 'pick_y', 'overall', 'round_y','category',\n",
    "       'traded', 'trade_note', 'team_y', 'team_abbr', 'team_logo_espn', 'guid','player_image'], inplace=True)\n",
    "\n",
    "df2.dropna(inplace=True)"
   ]
  },
  {
   "cell_type": "code",
   "execution_count": 304,
   "metadata": {},
   "outputs": [
    {
     "data": {
      "text/plain": [
       "Index(['Pos', 'Ht', 'Wt', 'Forty', 'Vertical', 'BenchReps', 'BroadJump',\n",
       "       'Cone', 'Shuttle', 'Year', 'AV', 'Pick', 'side', 'school_abbr',\n",
       "       'weight', 'height', 'pos_rk', 'ovr_rk', 'grade'],\n",
       "      dtype='object')"
      ]
     },
     "execution_count": 304,
     "metadata": {},
     "output_type": "execute_result"
    }
   ],
   "source": [
    "df2"
   ]
  },
  {
   "cell_type": "code",
   "execution_count": null,
   "metadata": {},
   "outputs": [],
   "source": [
    "## Feature Creation: Encoding and Scaling"
   ]
  },
  {
   "cell_type": "code",
   "execution_count": null,
   "metadata": {},
   "outputs": [],
   "source": []
  },
  {
   "cell_type": "code",
   "execution_count": null,
   "metadata": {},
   "outputs": [],
   "source": []
  },
  {
   "cell_type": "markdown",
   "metadata": {},
   "source": [
    "## Feature Transformation: Encoding and Scaling"
   ]
  },
  {
   "cell_type": "markdown",
   "metadata": {},
   "source": [
    "As can be seen in the dataset that remains, there are many categorical fields remaining:\n",
    "    \n",
    "    - Pos: the position label of the player, crucial to their draft order and competition.\n",
    "    - side: Denotes whether a player is a defensive or offensive player, again vital to their draft prospects.\n",
    "    - school_abbr: This field will be retained to examine whether the school a player comes from has a significant impact on their draft prospects (particularly those that go to highly competitive schools). "
   ]
  },
  {
   "cell_type": "code",
   "execution_count": 305,
   "metadata": {},
   "outputs": [],
   "source": [
    "label_encoder = LabelEncoder()\n",
    "df2['Pos'] = label_encoder.fit_transform(df2['Pos'])\n",
    "df2['side'] = label_encoder.fit_transform(df2['side'])\n",
    "df2['school_abbr'] = label_encoder.fit_transform(df2['school_abbr'])"
   ]
  },
  {
   "cell_type": "markdown",
   "metadata": {},
   "source": [
    "Finally, all fields except for Pick (the target variable) have been scaled to feed into a model. "
   ]
  },
  {
   "cell_type": "code",
   "execution_count": 306,
   "metadata": {},
   "outputs": [
    {
     "data": {
      "text/html": [
       "<div>\n",
       "<style scoped>\n",
       "    .dataframe tbody tr th:only-of-type {\n",
       "        vertical-align: middle;\n",
       "    }\n",
       "\n",
       "    .dataframe tbody tr th {\n",
       "        vertical-align: top;\n",
       "    }\n",
       "\n",
       "    .dataframe thead th {\n",
       "        text-align: right;\n",
       "    }\n",
       "</style>\n",
       "<table border=\"1\" class=\"dataframe\">\n",
       "  <thead>\n",
       "    <tr style=\"text-align: right;\">\n",
       "      <th></th>\n",
       "      <th>Pos</th>\n",
       "      <th>Ht</th>\n",
       "      <th>Wt</th>\n",
       "      <th>Forty</th>\n",
       "      <th>Vertical</th>\n",
       "      <th>BenchReps</th>\n",
       "      <th>BroadJump</th>\n",
       "      <th>Cone</th>\n",
       "      <th>Shuttle</th>\n",
       "      <th>Year</th>\n",
       "      <th>AV</th>\n",
       "      <th>Pick</th>\n",
       "      <th>side</th>\n",
       "      <th>school_abbr</th>\n",
       "      <th>weight</th>\n",
       "      <th>height</th>\n",
       "      <th>pos_rk</th>\n",
       "      <th>ovr_rk</th>\n",
       "      <th>grade</th>\n",
       "    </tr>\n",
       "  </thead>\n",
       "  <tbody>\n",
       "    <tr>\n",
       "      <th>718</th>\n",
       "      <td>0.173913</td>\n",
       "      <td>0.600000</td>\n",
       "      <td>0.709360</td>\n",
       "      <td>0.856410</td>\n",
       "      <td>0.000000</td>\n",
       "      <td>0.000000</td>\n",
       "      <td>0.000000</td>\n",
       "      <td>0.000000</td>\n",
       "      <td>0.000000</td>\n",
       "      <td>0.0</td>\n",
       "      <td>0.200000</td>\n",
       "      <td>74.0</td>\n",
       "      <td>0.0</td>\n",
       "      <td>0.608040</td>\n",
       "      <td>0.716418</td>\n",
       "      <td>0.860465</td>\n",
       "      <td>0.22</td>\n",
       "      <td>0.239247</td>\n",
       "      <td>0.617647</td>\n",
       "    </tr>\n",
       "    <tr>\n",
       "      <th>719</th>\n",
       "      <td>0.956522</td>\n",
       "      <td>0.800000</td>\n",
       "      <td>0.522167</td>\n",
       "      <td>0.835897</td>\n",
       "      <td>0.666667</td>\n",
       "      <td>0.346939</td>\n",
       "      <td>0.721088</td>\n",
       "      <td>0.918224</td>\n",
       "      <td>0.827138</td>\n",
       "      <td>0.0</td>\n",
       "      <td>0.163636</td>\n",
       "      <td>245.0</td>\n",
       "      <td>0.5</td>\n",
       "      <td>0.708543</td>\n",
       "      <td>0.527363</td>\n",
       "      <td>0.930233</td>\n",
       "      <td>0.16</td>\n",
       "      <td>0.365591</td>\n",
       "      <td>0.485294</td>\n",
       "    </tr>\n",
       "    <tr>\n",
       "      <th>720</th>\n",
       "      <td>0.695652</td>\n",
       "      <td>0.800000</td>\n",
       "      <td>0.881773</td>\n",
       "      <td>0.866667</td>\n",
       "      <td>0.677778</td>\n",
       "      <td>0.693878</td>\n",
       "      <td>0.721088</td>\n",
       "      <td>0.945093</td>\n",
       "      <td>0.888476</td>\n",
       "      <td>0.0</td>\n",
       "      <td>0.145455</td>\n",
       "      <td>123.0</td>\n",
       "      <td>0.5</td>\n",
       "      <td>0.457286</td>\n",
       "      <td>0.870647</td>\n",
       "      <td>0.930233</td>\n",
       "      <td>0.28</td>\n",
       "      <td>0.513441</td>\n",
       "      <td>0.352941</td>\n",
       "    </tr>\n",
       "    <tr>\n",
       "      <th>721</th>\n",
       "      <td>0.695652</td>\n",
       "      <td>0.666667</td>\n",
       "      <td>1.000000</td>\n",
       "      <td>0.938462</td>\n",
       "      <td>0.555556</td>\n",
       "      <td>0.551020</td>\n",
       "      <td>0.666667</td>\n",
       "      <td>0.963785</td>\n",
       "      <td>0.901487</td>\n",
       "      <td>0.0</td>\n",
       "      <td>0.527273</td>\n",
       "      <td>16.0</td>\n",
       "      <td>0.5</td>\n",
       "      <td>0.030151</td>\n",
       "      <td>0.905473</td>\n",
       "      <td>0.906977</td>\n",
       "      <td>0.02</td>\n",
       "      <td>0.051075</td>\n",
       "      <td>0.911765</td>\n",
       "    </tr>\n",
       "    <tr>\n",
       "      <th>722</th>\n",
       "      <td>0.173913</td>\n",
       "      <td>0.733333</td>\n",
       "      <td>0.714286</td>\n",
       "      <td>0.888889</td>\n",
       "      <td>0.600000</td>\n",
       "      <td>0.408163</td>\n",
       "      <td>0.687075</td>\n",
       "      <td>0.882009</td>\n",
       "      <td>0.821561</td>\n",
       "      <td>0.0</td>\n",
       "      <td>0.072727</td>\n",
       "      <td>114.0</td>\n",
       "      <td>0.0</td>\n",
       "      <td>0.492462</td>\n",
       "      <td>0.686567</td>\n",
       "      <td>0.906977</td>\n",
       "      <td>0.18</td>\n",
       "      <td>0.206989</td>\n",
       "      <td>0.676471</td>\n",
       "    </tr>\n",
       "    <tr>\n",
       "      <th>...</th>\n",
       "      <td>...</td>\n",
       "      <td>...</td>\n",
       "      <td>...</td>\n",
       "      <td>...</td>\n",
       "      <td>...</td>\n",
       "      <td>...</td>\n",
       "      <td>...</td>\n",
       "      <td>...</td>\n",
       "      <td>...</td>\n",
       "      <td>...</td>\n",
       "      <td>...</td>\n",
       "      <td>...</td>\n",
       "      <td>...</td>\n",
       "      <td>...</td>\n",
       "      <td>...</td>\n",
       "      <td>...</td>\n",
       "      <td>...</td>\n",
       "      <td>...</td>\n",
       "      <td>...</td>\n",
       "    </tr>\n",
       "    <tr>\n",
       "      <th>3552</th>\n",
       "      <td>1.000000</td>\n",
       "      <td>0.600000</td>\n",
       "      <td>0.256158</td>\n",
       "      <td>0.774359</td>\n",
       "      <td>0.744444</td>\n",
       "      <td>0.000000</td>\n",
       "      <td>0.768707</td>\n",
       "      <td>0.817757</td>\n",
       "      <td>0.000000</td>\n",
       "      <td>1.0</td>\n",
       "      <td>0.072727</td>\n",
       "      <td>0.0</td>\n",
       "      <td>0.5</td>\n",
       "      <td>0.819095</td>\n",
       "      <td>0.258706</td>\n",
       "      <td>0.860465</td>\n",
       "      <td>0.62</td>\n",
       "      <td>0.690860</td>\n",
       "      <td>0.161765</td>\n",
       "    </tr>\n",
       "    <tr>\n",
       "      <th>3553</th>\n",
       "      <td>0.782609</td>\n",
       "      <td>0.466667</td>\n",
       "      <td>0.246305</td>\n",
       "      <td>0.818803</td>\n",
       "      <td>0.700000</td>\n",
       "      <td>0.000000</td>\n",
       "      <td>0.700680</td>\n",
       "      <td>0.810748</td>\n",
       "      <td>0.771375</td>\n",
       "      <td>1.0</td>\n",
       "      <td>0.072727</td>\n",
       "      <td>0.0</td>\n",
       "      <td>0.5</td>\n",
       "      <td>0.763819</td>\n",
       "      <td>0.248756</td>\n",
       "      <td>0.813953</td>\n",
       "      <td>0.18</td>\n",
       "      <td>0.561828</td>\n",
       "      <td>0.294118</td>\n",
       "    </tr>\n",
       "    <tr>\n",
       "      <th>3554</th>\n",
       "      <td>0.347826</td>\n",
       "      <td>0.600000</td>\n",
       "      <td>0.738916</td>\n",
       "      <td>0.000000</td>\n",
       "      <td>0.000000</td>\n",
       "      <td>0.000000</td>\n",
       "      <td>0.000000</td>\n",
       "      <td>0.000000</td>\n",
       "      <td>0.000000</td>\n",
       "      <td>1.0</td>\n",
       "      <td>0.072727</td>\n",
       "      <td>0.0</td>\n",
       "      <td>0.5</td>\n",
       "      <td>0.819095</td>\n",
       "      <td>0.746269</td>\n",
       "      <td>0.837209</td>\n",
       "      <td>0.06</td>\n",
       "      <td>0.099462</td>\n",
       "      <td>0.794118</td>\n",
       "    </tr>\n",
       "    <tr>\n",
       "      <th>3555</th>\n",
       "      <td>0.043478</td>\n",
       "      <td>0.466667</td>\n",
       "      <td>0.133005</td>\n",
       "      <td>0.772650</td>\n",
       "      <td>0.000000</td>\n",
       "      <td>0.163265</td>\n",
       "      <td>0.816327</td>\n",
       "      <td>0.000000</td>\n",
       "      <td>0.776952</td>\n",
       "      <td>1.0</td>\n",
       "      <td>0.072727</td>\n",
       "      <td>0.0</td>\n",
       "      <td>0.0</td>\n",
       "      <td>0.065327</td>\n",
       "      <td>0.134328</td>\n",
       "      <td>0.813953</td>\n",
       "      <td>0.28</td>\n",
       "      <td>0.325269</td>\n",
       "      <td>0.544118</td>\n",
       "    </tr>\n",
       "    <tr>\n",
       "      <th>3556</th>\n",
       "      <td>0.217391</td>\n",
       "      <td>0.666667</td>\n",
       "      <td>0.467980</td>\n",
       "      <td>0.817094</td>\n",
       "      <td>0.733333</td>\n",
       "      <td>0.510204</td>\n",
       "      <td>0.775510</td>\n",
       "      <td>0.816589</td>\n",
       "      <td>0.817844</td>\n",
       "      <td>1.0</td>\n",
       "      <td>0.072727</td>\n",
       "      <td>0.0</td>\n",
       "      <td>0.0</td>\n",
       "      <td>0.386935</td>\n",
       "      <td>0.472637</td>\n",
       "      <td>0.883721</td>\n",
       "      <td>0.36</td>\n",
       "      <td>0.572581</td>\n",
       "      <td>0.279412</td>\n",
       "    </tr>\n",
       "  </tbody>\n",
       "</table>\n",
       "<p>2506 rows × 19 columns</p>\n",
       "</div>"
      ],
      "text/plain": [
       "           Pos        Ht        Wt     Forty  Vertical  BenchReps  BroadJump  \\\n",
       "718   0.173913  0.600000  0.709360  0.856410  0.000000   0.000000   0.000000   \n",
       "719   0.956522  0.800000  0.522167  0.835897  0.666667   0.346939   0.721088   \n",
       "720   0.695652  0.800000  0.881773  0.866667  0.677778   0.693878   0.721088   \n",
       "721   0.695652  0.666667  1.000000  0.938462  0.555556   0.551020   0.666667   \n",
       "722   0.173913  0.733333  0.714286  0.888889  0.600000   0.408163   0.687075   \n",
       "...        ...       ...       ...       ...       ...        ...        ...   \n",
       "3552  1.000000  0.600000  0.256158  0.774359  0.744444   0.000000   0.768707   \n",
       "3553  0.782609  0.466667  0.246305  0.818803  0.700000   0.000000   0.700680   \n",
       "3554  0.347826  0.600000  0.738916  0.000000  0.000000   0.000000   0.000000   \n",
       "3555  0.043478  0.466667  0.133005  0.772650  0.000000   0.163265   0.816327   \n",
       "3556  0.217391  0.666667  0.467980  0.817094  0.733333   0.510204   0.775510   \n",
       "\n",
       "          Cone   Shuttle  Year        AV   Pick  side  school_abbr    weight  \\\n",
       "718   0.000000  0.000000   0.0  0.200000   74.0   0.0     0.608040  0.716418   \n",
       "719   0.918224  0.827138   0.0  0.163636  245.0   0.5     0.708543  0.527363   \n",
       "720   0.945093  0.888476   0.0  0.145455  123.0   0.5     0.457286  0.870647   \n",
       "721   0.963785  0.901487   0.0  0.527273   16.0   0.5     0.030151  0.905473   \n",
       "722   0.882009  0.821561   0.0  0.072727  114.0   0.0     0.492462  0.686567   \n",
       "...        ...       ...   ...       ...    ...   ...          ...       ...   \n",
       "3552  0.817757  0.000000   1.0  0.072727    0.0   0.5     0.819095  0.258706   \n",
       "3553  0.810748  0.771375   1.0  0.072727    0.0   0.5     0.763819  0.248756   \n",
       "3554  0.000000  0.000000   1.0  0.072727    0.0   0.5     0.819095  0.746269   \n",
       "3555  0.000000  0.776952   1.0  0.072727    0.0   0.0     0.065327  0.134328   \n",
       "3556  0.816589  0.817844   1.0  0.072727    0.0   0.0     0.386935  0.472637   \n",
       "\n",
       "        height  pos_rk    ovr_rk     grade  \n",
       "718   0.860465    0.22  0.239247  0.617647  \n",
       "719   0.930233    0.16  0.365591  0.485294  \n",
       "720   0.930233    0.28  0.513441  0.352941  \n",
       "721   0.906977    0.02  0.051075  0.911765  \n",
       "722   0.906977    0.18  0.206989  0.676471  \n",
       "...        ...     ...       ...       ...  \n",
       "3552  0.860465    0.62  0.690860  0.161765  \n",
       "3553  0.813953    0.18  0.561828  0.294118  \n",
       "3554  0.837209    0.06  0.099462  0.794118  \n",
       "3555  0.813953    0.28  0.325269  0.544118  \n",
       "3556  0.883721    0.36  0.572581  0.279412  \n",
       "\n",
       "[2506 rows x 19 columns]"
      ]
     },
     "execution_count": 306,
     "metadata": {},
     "output_type": "execute_result"
    }
   ],
   "source": [
    "# scaler = MinMaxScaler()\n",
    "df2.loc[:,~df2.columns.isin(['Pick'])] = scaler.fit_transform(df2.loc[:,~df2.columns.isin(['Pick'])])\n",
    "\n",
    "df2"
   ]
  },
  {
   "cell_type": "markdown",
   "metadata": {},
   "source": [
    "## Train-Test-Validation Split"
   ]
  },
  {
   "cell_type": "code",
   "execution_count": 307,
   "metadata": {},
   "outputs": [
    {
     "name": "stdout",
     "output_type": "stream",
     "text": [
      "Length of X_train is 3421 records.\n",
      "Length of y_train is 3421 records.\n",
      "Length of X_valid is 190 records.\n",
      "Length of y_valid is 190 records.\n",
      "Length of X_test is 191 records.\n",
      "Length of y_test is 191 records.\n"
     ]
    }
   ],
   "source": [
    "X_train, y_train, X_valid, y_valid, X_test, y_test = train_valid_test_split(df, target = 'Pick', train_size=0.9, valid_size=0.05, test_size=0.05)\n",
    "\n",
    "dfs = [X_train, y_train, X_valid, y_valid, X_test, y_test]\n",
    "labels = ['X_train', 'y_train', 'X_valid', 'y_valid', 'X_test', 'y_test']\n",
    "\n",
    "for label, df in zip(labels, dfs):\n",
    "    print(\"Length of {} is {} records.\".format(label, len(df)))"
   ]
  }
 ],
 "metadata": {
  "instance_type": "ml.t3.medium",
  "kernelspec": {
   "display_name": "Python 3 (Data Science)",
   "language": "python",
   "name": "python3__SAGEMAKER_INTERNAL__arn:aws:sagemaker:us-east-1:081325390199:image/datascience-1.0"
  },
  "language_info": {
   "codemirror_mode": {
    "name": "ipython",
    "version": 3
   },
   "file_extension": ".py",
   "mimetype": "text/x-python",
   "name": "python",
   "nbconvert_exporter": "python",
   "pygments_lexer": "ipython3",
   "version": "3.7.10"
  }
 },
 "nbformat": 4,
 "nbformat_minor": 4
}
